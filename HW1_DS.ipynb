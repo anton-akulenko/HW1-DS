{
  "nbformat": 4,
  "nbformat_minor": 0,
  "metadata": {
    "colab": {
      "provenance": [],
      "authorship_tag": "ABX9TyMx++dcXxthB6JhzXW+3PEU",
      "include_colab_link": true
    },
    "kernelspec": {
      "name": "python3",
      "display_name": "Python 3"
    },
    "language_info": {
      "name": "python"
    }
  },
  "cells": [
    {
      "cell_type": "markdown",
      "metadata": {
        "id": "view-in-github",
        "colab_type": "text"
      },
      "source": [
        "<a href=\"https://colab.research.google.com/github/anton-akulenko/HW1-DS/blob/main/HW1_DS.ipynb\" target=\"_parent\"><img src=\"https://colab.research.google.com/assets/colab-badge.svg\" alt=\"Open In Colab\"/></a>"
      ]
    },
    {
      "cell_type": "code",
      "execution_count": 1,
      "metadata": {
        "id": "RDeoKC9nak4P"
      },
      "outputs": [],
      "source": [
        "import numpy as np"
      ]
    },
    {
      "cell_type": "markdown",
      "source": [
        "#1.Створіть одновимірний масив (вектор) з першими 10-ма натуральними числами та виведіть його значення."
      ],
      "metadata": {
        "id": "SDlHfHpZd363"
      }
    },
    {
      "cell_type": "code",
      "source": [
        "a = np.arange(1, 11)\n",
        "a"
      ],
      "metadata": {
        "colab": {
          "base_uri": "https://localhost:8080/"
        },
        "id": "F7YGR-hqd8g0",
        "outputId": "a03264e0-dfcd-4fba-8373-8f6e716eb4f3"
      },
      "execution_count": 4,
      "outputs": [
        {
          "output_type": "execute_result",
          "data": {
            "text/plain": [
              "array([ 1,  2,  3,  4,  5,  6,  7,  8,  9, 10])"
            ]
          },
          "metadata": {},
          "execution_count": 4
        }
      ]
    },
    {
      "cell_type": "markdown",
      "source": [
        "#2.Створіть двовимірний масив (матрицю) розміром 3x3, заповніть його нулями та виведіть його значення.\n"
      ],
      "metadata": {
        "id": "Q-2TY3KxeXmB"
      }
    },
    {
      "cell_type": "code",
      "source": [
        "matrix_zeros = np.zeros((3, 3), dtype=int)\n",
        "matrix_zeros"
      ],
      "metadata": {
        "colab": {
          "base_uri": "https://localhost:8080/"
        },
        "id": "vAFnPj1SeV9u",
        "outputId": "389c5586-4dd2-4ad6-e0ad-373dfe90d350"
      },
      "execution_count": 5,
      "outputs": [
        {
          "output_type": "execute_result",
          "data": {
            "text/plain": [
              "array([[0, 0, 0],\n",
              "       [0, 0, 0],\n",
              "       [0, 0, 0]])"
            ]
          },
          "metadata": {},
          "execution_count": 5
        }
      ]
    },
    {
      "cell_type": "markdown",
      "source": [
        "#3.Створіть масив розміром 5x5, заповніть його випадковими цілими числами в діапазоні від 1 до 10 та виведіть його значення."
      ],
      "metadata": {
        "id": "XjlhJf3Iej9V"
      }
    },
    {
      "cell_type": "code",
      "source": [
        "matrix_rand = np.random.randint(1, 11, size = (5, 5))\n",
        "matrix_rand"
      ],
      "metadata": {
        "colab": {
          "base_uri": "https://localhost:8080/"
        },
        "id": "NDo5BrjGeifI",
        "outputId": "c8f7f8ac-0e55-4c80-d231-da56404c9595"
      },
      "execution_count": 6,
      "outputs": [
        {
          "output_type": "execute_result",
          "data": {
            "text/plain": [
              "array([[ 7,  4,  4,  8,  3],\n",
              "       [ 4,  6,  3,  5,  9],\n",
              "       [ 6, 10,  3,  8,  6],\n",
              "       [10,  6,  4,  1,  1],\n",
              "       [ 1,  3, 10,  7,  5]])"
            ]
          },
          "metadata": {},
          "execution_count": 6
        }
      ]
    },
    {
      "cell_type": "markdown",
      "source": [
        "#4.Створіть масив розміром 4x4, заповніть його випадковими дійсними числами в діапазоні від 0 до 1 та виведіть його значення."
      ],
      "metadata": {
        "id": "8BUbb3CTeuBJ"
      }
    },
    {
      "cell_type": "code",
      "source": [
        "R_matrix = np.random.rand(4, 4)\n",
        "print(R_matrix)"
      ],
      "metadata": {
        "colab": {
          "base_uri": "https://localhost:8080/"
        },
        "id": "e4IcmelYeyJ_",
        "outputId": "024dad58-6db6-4fde-9bca-c63a8e307418"
      },
      "execution_count": 7,
      "outputs": [
        {
          "output_type": "stream",
          "name": "stdout",
          "text": [
            "[[0.56334338 0.53650027 0.23651756 0.84679865]\n",
            " [0.87271167 0.57246053 0.24210634 0.13007338]\n",
            " [0.57426752 0.9781182  0.99118763 0.5817422 ]\n",
            " [0.74775943 0.81674193 0.60261211 0.87871358]]\n"
          ]
        }
      ]
    },
    {
      "cell_type": "markdown",
      "source": [
        "#5.Створіть два одновимірних масиви розміром 5, заповніть їх випадковими цілими числами в діапазоні від 1 до 10 та виконайте на них поелементні операції додавання, віднімання та множення.\n"
      ],
      "metadata": {
        "id": "1ThWdorle4A0"
      }
    },
    {
      "cell_type": "code",
      "source": [
        "R1_array = np.random.randint(1, 11, size = 5)\n",
        "R2_array = np.random.randint(1, 11, size = 5)\n",
        "print(R1_array)\n",
        "print(R2_array)\n"
      ],
      "metadata": {
        "colab": {
          "base_uri": "https://localhost:8080/"
        },
        "id": "oomgGi02e79G",
        "outputId": "ca512e27-7629-4af9-bf5f-47ed98085b4c"
      },
      "execution_count": 8,
      "outputs": [
        {
          "output_type": "stream",
          "name": "stdout",
          "text": [
            "[2 5 3 3 3]\n",
            "[10  4  3  3  4]\n"
          ]
        }
      ]
    },
    {
      "cell_type": "code",
      "source": [
        "res_add = R1_array + R2_array\n",
        "res_sub = R1_array - R2_array\n",
        "res_mul = R1_array * R2_array\n",
        "print(\"ADD:\", res_add)\n",
        "print(\"SUB:\", res_sub)\n",
        "print(\"MUL:\",res_mul)"
      ],
      "metadata": {
        "colab": {
          "base_uri": "https://localhost:8080/"
        },
        "id": "Zf5_nO2zfBC6",
        "outputId": "431cb6f5-b355-44d4-dbce-58e9a4b87fd1"
      },
      "execution_count": 9,
      "outputs": [
        {
          "output_type": "stream",
          "name": "stdout",
          "text": [
            "ADD: [12  9  6  6  7]\n",
            "SUB: [-8  1  0  0 -1]\n",
            "MUL: [20 20  9  9 12]\n"
          ]
        }
      ]
    },
    {
      "cell_type": "code",
      "source": [],
      "metadata": {
        "id": "GjN-m5TYfB_B"
      },
      "execution_count": null,
      "outputs": []
    },
    {
      "cell_type": "markdown",
      "source": [
        "#6.Створіть два вектори розміром 7, заповніть довільними числами та знайдіть їх скалярний добуток.\n"
      ],
      "metadata": {
        "id": "GFn-SAfQfDZY"
      }
    },
    {
      "cell_type": "code",
      "source": [
        "rand1_array = np.random.rand(7)\n",
        "rand2_array = np.random.rand(7)\n",
        "print(\"Scalar mul: \", np.dot(rand1_array,rand2_array))"
      ],
      "metadata": {
        "colab": {
          "base_uri": "https://localhost:8080/"
        },
        "id": "Xxd7vnXhfFeP",
        "outputId": "5ccc390a-e34c-465a-f734-242b4aeeeb2b"
      },
      "execution_count": 10,
      "outputs": [
        {
          "output_type": "stream",
          "name": "stdout",
          "text": [
            "Scalar mul:  2.2286638406154915\n"
          ]
        }
      ]
    },
    {
      "cell_type": "markdown",
      "source": [
        "#7.Створіть дві матриці розміром 2x2 та 2x3, заповніть їх випадковими цілими числами в діапазоні від 1 до 10 та перемножте їх між собою.\n"
      ],
      "metadata": {
        "id": "EPwg36-rfJuP"
      }
    },
    {
      "cell_type": "code",
      "source": [
        "matrix22_rand = np.random.randint(1, 11, (2, 2))\n",
        "matrix23_rand = np.random.randint(1, 11, (2, 3))\n",
        "print(matrix22_rand)\n",
        "print(matrix23_rand)\n"
      ],
      "metadata": {
        "colab": {
          "base_uri": "https://localhost:8080/"
        },
        "id": "SqkyIeL8fIA9",
        "outputId": "f7b71536-47db-4530-d7e8-36d43bb2b93a"
      },
      "execution_count": 11,
      "outputs": [
        {
          "output_type": "stream",
          "name": "stdout",
          "text": [
            "[[4 7]\n",
            " [7 9]]\n",
            "[[ 9 10  7]\n",
            " [ 4  2  9]]\n"
          ]
        }
      ]
    },
    {
      "cell_type": "code",
      "source": [
        "result_matrix = np.dot(matrix22_rand, matrix23_rand)\n",
        "print(\"(2, 2) * (2 ,3): \\n\", result_matrix)"
      ],
      "metadata": {
        "colab": {
          "base_uri": "https://localhost:8080/"
        },
        "id": "HmE0Tfs-fei9",
        "outputId": "66bbfffb-e1c6-4765-af7f-b9358eecc110"
      },
      "execution_count": 12,
      "outputs": [
        {
          "output_type": "stream",
          "name": "stdout",
          "text": [
            "(2, 2) * (2 ,3): \n",
            " [[ 64  54  91]\n",
            " [ 99  88 130]]\n"
          ]
        }
      ]
    },
    {
      "cell_type": "markdown",
      "source": [
        "#8.Створіть матрицю розміром 3x3, заповніть її випадковими цілими числами в діапазоні від 1 до 10 та знайдіть її обернену матрицю.\n"
      ],
      "metadata": {
        "id": "l41cj0mAfg25"
      }
    },
    {
      "cell_type": "code",
      "source": [
        "matrix33_rand = np.random.randint(1, 11, size = (3, 3))\n",
        "print(\"Source (3, 3): \\n\",matrix33_rand)\n"
      ],
      "metadata": {
        "colab": {
          "base_uri": "https://localhost:8080/"
        },
        "id": "hE3iE3nnfffx",
        "outputId": "6c23ef59-b2d2-4ca9-c14b-3172abd31994"
      },
      "execution_count": 13,
      "outputs": [
        {
          "output_type": "stream",
          "name": "stdout",
          "text": [
            "Source (3, 3): \n",
            " [[ 1  3  5]\n",
            " [ 8  1 10]\n",
            " [ 9  5  5]]\n"
          ]
        }
      ]
    },
    {
      "cell_type": "code",
      "source": [
        "matrix33_rand_inv = np.linalg.inv(matrix33_rand)\n",
        "print(\"Inverted (3, 3): \\n\", matrix33_rand_inv)"
      ],
      "metadata": {
        "colab": {
          "base_uri": "https://localhost:8080/"
        },
        "id": "c76YZNJ9fpHr",
        "outputId": "6e0fbfff-81e9-4c9d-e5f8-3eeda5c2f014"
      },
      "execution_count": 14,
      "outputs": [
        {
          "output_type": "stream",
          "name": "stdout",
          "text": [
            "Inverted (3, 3): \n",
            " [[-0.17307692  0.03846154  0.09615385]\n",
            " [ 0.19230769 -0.15384615  0.11538462]\n",
            " [ 0.11923077  0.08461538 -0.08846154]]\n"
          ]
        }
      ]
    },
    {
      "cell_type": "markdown",
      "source": [
        "#9.Створіть матрицю розміром 4x4, заповніть її випадковими дійсними числами в діапазоні від 0 до 1 та транспонуйте її.\n"
      ],
      "metadata": {
        "id": "lTVI8simftJi"
      }
    },
    {
      "cell_type": "code",
      "source": [
        "R_matrix = np.random.rand(4, 4)\n",
        "print(\"Source: \\n\", R_matrix)\n",
        "print(\"Transp: \\n\", R_matrix.T)"
      ],
      "metadata": {
        "colab": {
          "base_uri": "https://localhost:8080/"
        },
        "id": "BVPKnJTdfqGA",
        "outputId": "7f72ca6d-99c7-4061-fdba-70f297ee57e2"
      },
      "execution_count": 15,
      "outputs": [
        {
          "output_type": "stream",
          "name": "stdout",
          "text": [
            "Source: \n",
            " [[0.52739493 0.54353257 0.32535518 0.34938781]\n",
            " [0.56575072 0.53211464 0.12905788 0.03727731]\n",
            " [0.97240254 0.64267228 0.88939139 0.04679337]\n",
            " [0.36126246 0.66648734 0.24251095 0.66134361]]\n",
            "Transp: \n",
            " [[0.52739493 0.56575072 0.97240254 0.36126246]\n",
            " [0.54353257 0.53211464 0.64267228 0.66648734]\n",
            " [0.32535518 0.12905788 0.88939139 0.24251095]\n",
            " [0.34938781 0.03727731 0.04679337 0.66134361]]\n"
          ]
        }
      ]
    },
    {
      "cell_type": "markdown",
      "source": [
        "#10.Створіть матрицю розміром 3x4 та вектор розміром 4, заповніть їх випадковими цілими числами в діапазоні від 1 до 10 та перемножте матрицю на вектор.\n"
      ],
      "metadata": {
        "id": "LVCRHqqhfysl"
      }
    },
    {
      "cell_type": "code",
      "source": [
        "matrix34_rand = np.random.randint(1, 11, (3, 4))\n",
        "vec4_rand = np.random.randint(1, 11, 4)\n",
        "print(\"(3, 4): \\n\", matrix34_rand)\n",
        "print(\"[4]: \\n\", vec4_rand)\n",
        "print(\"Mul (3,4) and [4]: \\n\", np.dot(matrix34_rand, vec4_rand))"
      ],
      "metadata": {
        "colab": {
          "base_uri": "https://localhost:8080/"
        },
        "id": "Ea2DBhEdfxlP",
        "outputId": "318cc541-82cf-4025-e35a-1b642b443ece"
      },
      "execution_count": 16,
      "outputs": [
        {
          "output_type": "stream",
          "name": "stdout",
          "text": [
            "(3, 4): \n",
            " [[ 2  8  2  1]\n",
            " [ 4  6  8  9]\n",
            " [ 4  2  2 10]]\n",
            "[4]: \n",
            " [6 8 2 1]\n",
            "Mul (3,4) and [4]: \n",
            " [81 97 54]\n"
          ]
        }
      ]
    },
    {
      "cell_type": "markdown",
      "source": [
        "#11.Створіть матрицю розміром 2x3 та вектор розміром 3, заповніть їх випадковими дійсними числами в діапазоні від 0 до 1 та перемножте матрицю на вектор.\n"
      ],
      "metadata": {
        "id": "lUtvtH-Yf-Th"
      }
    },
    {
      "cell_type": "code",
      "source": [
        "matrix23_rand = np.random.rand(2, 3)\n",
        "vec3_rand = np.random.rand(3)\n",
        "print(\"(2, 3): \\n\", matrix23_rand)\n",
        "print(\"[3]: \\n\", vec3_rand)\n"
      ],
      "metadata": {
        "colab": {
          "base_uri": "https://localhost:8080/"
        },
        "id": "dkgWnrkRf5Ab",
        "outputId": "dbb7469c-e74b-4daa-df87-b9452285474d"
      },
      "execution_count": 17,
      "outputs": [
        {
          "output_type": "stream",
          "name": "stdout",
          "text": [
            "(2, 3): \n",
            " [[0.15697889 0.98468702 0.4370952 ]\n",
            " [0.44395176 0.21712905 0.67937769]]\n",
            "[3]: \n",
            " [0.45129222 0.56866838 0.29525193]\n"
          ]
        }
      ]
    },
    {
      "cell_type": "code",
      "source": [
        "print(\"Mul (2,3) and [3]: \\n\", np.dot(matrix23_rand, vec3_rand))"
      ],
      "metadata": {
        "colab": {
          "base_uri": "https://localhost:8080/"
        },
        "id": "cunTJQ9CgHM2",
        "outputId": "c5f95d0c-aaca-438a-9838-29a75212ab69"
      },
      "execution_count": 19,
      "outputs": [
        {
          "output_type": "stream",
          "name": "stdout",
          "text": [
            "Mul (2,3) and [3]: \n",
            " [0.75985693 0.52441397]\n"
          ]
        }
      ]
    },
    {
      "cell_type": "markdown",
      "source": [
        "#12.Створіть дві матриці розміром 2x2, заповніть їх випадковими цілими числами в діапазоні від 1 до 10 та виконайте їхнє поелементне множення.\n"
      ],
      "metadata": {
        "id": "zBOY6KpWgOlq"
      }
    },
    {
      "cell_type": "code",
      "source": [
        "m1_rand = np.random.randint(1, 11, (2, 2))\n",
        "m2_rand = np.random.randint(1, 11, (2, 2))\n",
        "print(m1_rand)\n",
        "print(m2_rand)\n"
      ],
      "metadata": {
        "colab": {
          "base_uri": "https://localhost:8080/"
        },
        "id": "-bkq16PQgRL8",
        "outputId": "72ab5fd1-b4be-4086-fc7c-d8b0c9fb8bd4"
      },
      "execution_count": 20,
      "outputs": [
        {
          "output_type": "stream",
          "name": "stdout",
          "text": [
            "[[8 3]\n",
            " [6 2]]\n",
            "[[2 5]\n",
            " [5 9]]\n"
          ]
        }
      ]
    },
    {
      "cell_type": "code",
      "source": [
        "res_mul = m1_rand * m2_rand\n",
        "print(\"MUL scalar: \\n\",res_mul)"
      ],
      "metadata": {
        "colab": {
          "base_uri": "https://localhost:8080/"
        },
        "id": "TSEXc2MdgVzZ",
        "outputId": "114f4591-3b36-4bdd-e4de-fb9558367a86"
      },
      "execution_count": 21,
      "outputs": [
        {
          "output_type": "stream",
          "name": "stdout",
          "text": [
            "MUL scalar: \n",
            " [[16 15]\n",
            " [30 18]]\n"
          ]
        }
      ]
    },
    {
      "cell_type": "markdown",
      "source": [
        "#13.Створіть дві матриці розміром 2x2, заповніть їх випадковими цілими числами в діапазоні від 1 до 10 та знайдіть їх добуток.\n"
      ],
      "metadata": {
        "id": "1ORFVOuzgg6E"
      }
    },
    {
      "cell_type": "code",
      "source": [
        "res_mul = np.dot(m1_rand, m2_rand)\n",
        "print(\"MUL of matrix: \\n\",res_mul)"
      ],
      "metadata": {
        "colab": {
          "base_uri": "https://localhost:8080/"
        },
        "id": "1zooPMeagWk2",
        "outputId": "a7fe26e2-7586-494d-f9fa-7d9842ecba83"
      },
      "execution_count": 22,
      "outputs": [
        {
          "output_type": "stream",
          "name": "stdout",
          "text": [
            "MUL of matrix: \n",
            " [[31 67]\n",
            " [22 48]]\n"
          ]
        }
      ]
    },
    {
      "cell_type": "markdown",
      "source": [
        "#14.Створіть матрицю розміром 5x5, заповніть її випадковими цілими числами в діапазоні від 1 до 100 та знайдіть суму елементів матриці.\n"
      ],
      "metadata": {
        "id": "7D9NsPt9gqjP"
      }
    },
    {
      "cell_type": "code",
      "source": [
        "matrix55_sum = np.random.randint(1, 101, size = (5, 5))\n",
        "print(matrix55_sum)\n",
        "print(\"Sum of all el matrix (5,5): \\n\", np.sum(matrix55_sum))"
      ],
      "metadata": {
        "colab": {
          "base_uri": "https://localhost:8080/"
        },
        "id": "fYLJjStQgmTR",
        "outputId": "0891b1c8-93b8-4e6c-9f0d-171459bcb08a"
      },
      "execution_count": 23,
      "outputs": [
        {
          "output_type": "stream",
          "name": "stdout",
          "text": [
            "[[48 46 20 16 97]\n",
            " [ 1 48 53 41 32]\n",
            " [41 80 29 81  8]\n",
            " [18 99 96 58 87]\n",
            " [13 64 66 28 12]]\n",
            "Sum of all el matrix (5,5): \n",
            " 1182\n"
          ]
        }
      ]
    },
    {
      "cell_type": "markdown",
      "source": [
        "#15.Створіть дві матриці розміром 4x4, заповніть їх випадковими цілими числами в діапазоні від 1 до 10 та знайдіть їхню різницю.\n"
      ],
      "metadata": {
        "id": "HH0s19lfgvD9"
      }
    },
    {
      "cell_type": "code",
      "source": [
        "m1_44 = np.random.randint(1, 11, (4, 4))\n",
        "m2_44 = np.random.randint(1, 11, (4, 4))\n",
        "print(m1_44)\n",
        "print(m2_44)\n"
      ],
      "metadata": {
        "colab": {
          "base_uri": "https://localhost:8080/"
        },
        "id": "Z-mhE_npgt_5",
        "outputId": "3e8b5504-cf3c-4ca9-c018-f8b6f50ae34b"
      },
      "execution_count": 24,
      "outputs": [
        {
          "output_type": "stream",
          "name": "stdout",
          "text": [
            "[[ 6  9  5 10]\n",
            " [ 4  4  3 10]\n",
            " [ 3  3  3  8]\n",
            " [ 5 10  2  8]]\n",
            "[[9 5 6 6]\n",
            " [6 3 3 5]\n",
            " [9 5 7 8]\n",
            " [4 2 7 1]]\n"
          ]
        }
      ]
    },
    {
      "cell_type": "code",
      "source": [
        "print(\"Sub of matrix (4,4): \\n\", m1_44 - m2_44)"
      ],
      "metadata": {
        "colab": {
          "base_uri": "https://localhost:8080/"
        },
        "id": "7p1cpHBtg2RG",
        "outputId": "55f6661c-634f-4a40-eb33-06cd1ef0757d"
      },
      "execution_count": 25,
      "outputs": [
        {
          "output_type": "stream",
          "name": "stdout",
          "text": [
            "Sub of matrix (4,4): \n",
            " [[-3  4 -1  4]\n",
            " [-2  1  0  5]\n",
            " [-6 -2 -4  0]\n",
            " [ 1  8 -5  7]]\n"
          ]
        }
      ]
    },
    {
      "cell_type": "markdown",
      "source": [
        "#16.Створіть матрицю розміром 3x3, заповніть її випадковими дійсними числами в діапазоні від 0 до 1 та знайдіть вектор-стовпчик, що містить суму елементів кожного рядка матриці.\n"
      ],
      "metadata": {
        "id": "14Rsz7-Dg4a5"
      }
    },
    {
      "cell_type": "code",
      "source": [
        "matrix33_slices = np.random.rand(3, 3)\n",
        "print(matrix33_slices)\n",
        "sum_row = np.array([sum(matrix33_slices[0,:]), sum(matrix33_slices[1,:]), sum(matrix33_slices[2,:])])\n"
      ],
      "metadata": {
        "colab": {
          "base_uri": "https://localhost:8080/"
        },
        "id": "vcq7qHD3g3E-",
        "outputId": "e9563c7a-0ec7-41d2-bc95-ce8fc21cc8b0"
      },
      "execution_count": 27,
      "outputs": [
        {
          "output_type": "stream",
          "name": "stdout",
          "text": [
            "[[0.00924301 0.55562469 0.26500224]\n",
            " [0.84804685 0.68118208 0.02615245]\n",
            " [0.88402397 0.5125319  0.14557861]]\n"
          ]
        }
      ]
    },
    {
      "cell_type": "markdown",
      "source": [
        "v1"
      ],
      "metadata": {
        "id": "EjNEMbvahLGF"
      }
    },
    {
      "cell_type": "code",
      "source": [
        "vector_sum_column = sum_row.reshape(3, 1)\n",
        "print(\"Sum by rows: \\n\", vector_sum_column)"
      ],
      "metadata": {
        "colab": {
          "base_uri": "https://localhost:8080/"
        },
        "id": "9fIQIlgThaRs",
        "outputId": "fa2c951d-7584-4962-e694-865502ca3351"
      },
      "execution_count": 28,
      "outputs": [
        {
          "output_type": "stream",
          "name": "stdout",
          "text": [
            "Sum by rows: \n",
            " [[0.82986993]\n",
            " [1.55538137]\n",
            " [1.54213449]]\n"
          ]
        }
      ]
    },
    {
      "cell_type": "markdown",
      "source": [
        "v2"
      ],
      "metadata": {
        "id": "e5bKWl3hhdWh"
      }
    },
    {
      "cell_type": "code",
      "source": [
        "sum_row = np.sum(matrix33_slices, axis=1)\n",
        "print(\"Sum by rows: \\n\", vector_sum_column)"
      ],
      "metadata": {
        "colab": {
          "base_uri": "https://localhost:8080/"
        },
        "id": "EB84nvvLheR8",
        "outputId": "409b4b46-95e1-4262-858a-4f6be26d4b10"
      },
      "execution_count": 30,
      "outputs": [
        {
          "output_type": "stream",
          "name": "stdout",
          "text": [
            "Sum by rows: \n",
            " [[0.82986993]\n",
            " [1.55538137]\n",
            " [1.54213449]]\n"
          ]
        }
      ]
    },
    {
      "cell_type": "markdown",
      "source": [
        "#17.Створіть матрицю розміром 3x4 з довільними цілими числами і створінь матрицю з квадратами цих чисел.\n"
      ],
      "metadata": {
        "id": "8uOnDIoCh4Lb"
      }
    },
    {
      "cell_type": "code",
      "source": [
        "matrix34_suqare = np.random.randint(low=-20, high=20, size=(3, 4))\n",
        "print(\"\\n\", matrix34_suqare)\n"
      ],
      "metadata": {
        "colab": {
          "base_uri": "https://localhost:8080/"
        },
        "id": "14l_KE4Nhb6I",
        "outputId": "4cca76bf-13c6-4c72-e9ef-7a5ae5f0cc50"
      },
      "execution_count": 31,
      "outputs": [
        {
          "output_type": "stream",
          "name": "stdout",
          "text": [
            "\n",
            " [[-19  17  -4  -3]\n",
            " [-20 -14 -20   9]\n",
            " [-17   8  19   3]]\n"
          ]
        }
      ]
    },
    {
      "cell_type": "code",
      "source": [
        "print(\"Squares: \\n\", np.square(matrix34_suqare))"
      ],
      "metadata": {
        "colab": {
          "base_uri": "https://localhost:8080/"
        },
        "id": "RBVZMaHgiElD",
        "outputId": "05d5cf57-fcb3-4b97-acdd-0b3808a8b0b5"
      },
      "execution_count": 32,
      "outputs": [
        {
          "output_type": "stream",
          "name": "stdout",
          "text": [
            "Squares: \n",
            " [[361 289  16   9]\n",
            " [400 196 400  81]\n",
            " [289  64 361   9]]\n"
          ]
        }
      ]
    },
    {
      "cell_type": "markdown",
      "source": [
        "#18.Створіть вектор розміром 4, заповніть його випадковими цілими числами в діапазоні від 1 до 50 та знайдіть вектор з квадратними коренями цих чисел.\n"
      ],
      "metadata": {
        "id": "Bit3__FbiIPU"
      }
    },
    {
      "cell_type": "code",
      "source": [
        "vector_sqrt = np.random.randint(1, 20, 4)\n",
        "print(\"\\n\", vector_sqrt)\n"
      ],
      "metadata": {
        "colab": {
          "base_uri": "https://localhost:8080/"
        },
        "id": "9aXEBIGQiSaT",
        "outputId": "a1d4c369-7be0-49fa-84f6-582a69bf99f7"
      },
      "execution_count": 36,
      "outputs": [
        {
          "output_type": "stream",
          "name": "stdout",
          "text": [
            "\n",
            " [ 7 18 13  3]\n"
          ]
        }
      ]
    },
    {
      "cell_type": "code",
      "source": [
        "print(\"Sqrt: \", np.sqrt(vector_sqrt))"
      ],
      "metadata": {
        "colab": {
          "base_uri": "https://localhost:8080/"
        },
        "id": "nbQRzDVSiXcA",
        "outputId": "ec9e7f34-b3fc-4d35-a3e0-e6d18429c116"
      },
      "execution_count": 37,
      "outputs": [
        {
          "output_type": "stream",
          "name": "stdout",
          "text": [
            "Sqrt:  [2.64575131 4.24264069 3.60555128 1.73205081]\n"
          ]
        }
      ]
    }
  ]
}